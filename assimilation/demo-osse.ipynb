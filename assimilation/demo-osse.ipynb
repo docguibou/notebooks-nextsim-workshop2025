{
 "cells": [
  {
   "cell_type": "markdown",
   "id": "87d68392-dac0-4aaf-bf02-24f0202010e5",
   "metadata": {},
   "source": [
    "# Data assimilation in neXtSIM-DG with NEDAS\n",
    "Authors: Yue (Michael) Ying (NERSC), Ali Aydogdu (CMCC), Yumeng Chen (U. Reading)\n",
    "\n",
    "Data assimilation combines information from model forecasts and observations to obtain the best estimate of model state and parameters.\n",
    "\n",
    "In this tutorial, we show how DA works for neXtSIM-DG in an Observing System Simulation Experiment (OSSE):\n",
    "\n",
    "- Synthetic observations are simulated from a truth run\n",
    "- An ensemble forecast with perturbed boundary forcing is run\n",
    "- The observations are assimilated to reduce errors in the model states.\n",
    "- The errors in model states are diagnosed against the truth.\n",
    "\n",
    "This is a rather idealized setting, using very small ensemble size, low model resolution and short test time period.\n",
    "Real practice is of course more complex than this small demo.\n",
    "\n",
    "Learn more about NEDAS: [Documentation](https://nedas.readthedocs.io/en/latest/)"
   ]
  },
  {
   "cell_type": "markdown",
   "id": "d7a8285e-04fe-4dbe-b0f2-5c825c1b9a1b",
   "metadata": {},
   "source": [
    "## Environment and configuration\n",
    "\n",
    "A YAML file `config.yml` contains all the settings for an experiment.\n",
    "\n",
    "See [Configuration file](https://nedas.readthedocs.io/en/latest/config_file.html) documentation for more details.\n",
    "\n",
    "To run the experiment in command line: `python -m NEDAS -c config.yml`"
   ]
  },
  {
   "cell_type": "code",
   "execution_count": null,
   "id": "920f8966-ebc6-495e-a6c7-861d8df4724a",
   "metadata": {},
   "outputs": [],
   "source": [
    "# load necessary modules\n",
    "import os\n",
    "import sys\n",
    "\n",
    "import numpy as np\n",
    "from datetime import datetime, timedelta, timezone\n",
    "\n",
    "# graphics\n",
    "import matplotlib.pyplot as plt\n",
    "import matplotlib.gridspec as gridspec\n",
    "import matplotlib.dates as mdates\n",
    "import cmocean\n",
    "from NEDAS.utils.graphics import add_colorbar, adjust_ax_size\n",
    "import ipywidgets as widgets\n",
    "from IPython.display import display, HTML, Image, clear_output\n",
    "\n",
    "from NEDAS.config import Config\n",
    "from NEDAS.schemes import get_analysis_scheme\n"
   ]
  },
  {
   "cell_type": "markdown",
   "id": "2308994c-e08f-41ef-af5b-752d97c67247",
   "metadata": {},
   "source": [
    "Check how many CPUs are available on your system, you can then set the number of processors `nproc` and ensemble size `nens` accordingly\n"
   ]
  },
  {
   "cell_type": "code",
   "execution_count": null,
   "id": "bbbd8ef0-a016-4fcd-a94f-ee8f32ddff1c",
   "metadata": {},
   "outputs": [],
   "source": [
    "os.cpu_count()"
   ]
  },
  {
   "cell_type": "code",
   "execution_count": null,
   "id": "f5ce2404-fe39-4ec9-aeb8-13880f962369",
   "metadata": {},
   "outputs": [],
   "source": [
    "# load configuration\n",
    "config_file = \"/home/notebooks-nextsim-workshop2025/assimilation/config.yml\"\n",
    "nproc=6   ## number of processors; set according to your cpu count\n",
    "nens=6    ## ensemble size\n",
    "\n",
    "c = Config(config_file=config_file, nproc=nproc, nens=nens, debug=False)\n",
    "c.show_summary()\n",
    "\n",
    "print('ensemble size: ', c.nens)"
   ]
  },
  {
   "cell_type": "code",
   "execution_count": null,
   "id": "29aff75a-dc7b-4eb6-a4d5-c1bb7fcfa00b",
   "metadata": {},
   "outputs": [],
   "source": [
    "# number of cycles\n",
    "ncycle = int((c.time_end - c.time_start) / (c.cycle_period*timedelta(hours=1)))\n"
   ]
  },
  {
   "cell_type": "code",
   "execution_count": null,
   "id": "7e9a4565-5f14-4a4a-a11b-6710d7566eda",
   "metadata": {},
   "outputs": [],
   "source": [
    "# Analysis scheme: offline filter in this case\n",
    "scheme = get_analysis_scheme(c)\n",
    "\n",
    "# you can run the experiment by\n",
    "# scheme(c)\n",
    "\n",
    "scheme"
   ]
  },
  {
   "cell_type": "code",
   "execution_count": null,
   "id": "90245a48-2c66-492a-bd99-e0fe81f35955",
   "metadata": {},
   "outputs": [],
   "source": [
    "c.work_dir"
   ]
  },
  {
   "cell_type": "code",
   "execution_count": null,
   "id": "7afdcbf8-2b24-43ed-8149-367dc70d6971",
   "metadata": {},
   "outputs": [],
   "source": [
    "%%bash\n",
    "\n",
    "# a few quick fixes in work_dir\n",
    "# make a copy of free ens run, to save some time\n",
    "cd /home/data-nextsim-workshop2025/assimilation\n",
    "rm -rf cycle\n",
    "cp -r cycle-free cycle\n",
    "\n",
    "# fix path in truth init file\n",
    "cd truth\n",
    "ln -fs ../icbc/restart2010-01-01T00:00:00Z.nc .\n",
    "ln -fs ../icbc/25km_NH*nc ."
   ]
  },
  {
   "cell_type": "markdown",
   "id": "f3d56005-78a0-4ef2-8a74-57624fd0c589",
   "metadata": {},
   "source": [
    "File structure in `c.work_dir`:\n",
    "\n",
    "- `truth`: where the truth runs are located, this path is configurable in `model.truth_dir`.\n",
    "- `icbc`: where the initial and boundary condition files are located.\n",
    "- `large_ens`: a separately prepared ensemble can be used to start the cycling, configurable in `model.ens_init_dir`.\n",
    "- `cycle`: runtime output for cycling DA experiment.\n",
    "\n",
    "```\n",
    "cycle\n",
    "├── 201001010000 (datetime in %Y%m%d%H%M format)\n",
    "│   └── nextsim.dg  (ensemble forecast runtime output)\n",
    "│        ├── ens_01\n",
    "│        │     ├── 25km_NH.ERA5.nc    (slice of the atmos forcing, perturbed)\n",
    "│        │     ├── 25km_NH.TOPAZ4.nc  (slice of the ocean forcing, perturbed)\n",
    "│        │     ├── restart2010-01-01T00:00:00Z.nc\n",
    "│        │     └── restart2010-01-01T06:00:00Z.nc\n",
    "│        ├── ens_02\n",
    "│        └── ...\n",
    "├── 201001010600\n",
    "├── 201001011200\n",
    "├── 201001011800\n",
    "│   └── nextsim.dg\n",
    "│        ├── ens_01\n",
    "│        │     ├── 25km_NH.ERA5.nc\n",
    "│        │     ├── 25km_NH.TOPAZ4.nc\n",
    "│        │     ├── restart2010-01-01T18:00:00Z.nc\n",
    "│        │     └── restart2010-01-02T00:00:00Z.nc (forecast to next cycle; the \"prior\")\n",
    "│        ├── ens_02\n",
    "│        └── ...\n",
    "├── 201001020000 (first analysis cycle)\n",
    "│   ├── analysis (filter step runtime output)\n",
    "│   │    ├── prior_state.bin\n",
    "│   │    ├── post_state.bin\n",
    "│   │    └── obs_seq*.npy\n",
    "│   └── nextsim.dg (ensemble forecast runtime output)\n",
    "│        ├── ens_01\n",
    "│        │     ├── 25km_NH.ERA5.nc\n",
    "│        │     ├── 25km_NH.TOPAZ4.nc\n",
    "│        │     ├── restart2010-01-02T00:00:00Z.nc (analysis state; the \"posterior\")\n",
    "│        │     └── restart2010-01-02T06:00:00Z.nc (forecast to next cycle)\n",
    "│        ├── ens_02\n",
    "│        └── ...\n",
    "├── ...\n",
    "└── 201001031800 (last cycle)\n",
    "```"
   ]
  },
  {
   "cell_type": "markdown",
   "id": "a5dde585-f034-47df-a4e3-c40a80618e29",
   "metadata": {},
   "source": [
    "## Running the model\n",
    "\n",
    "A `NextsimDGModel` class is implemented to read/write state variables and run the model.\n",
    "\n",
    "This serves as the \"model interface\". To use NEDAS to perform DA for another model, you need to create a corresponding Model class.\n"
   ]
  },
  {
   "cell_type": "code",
   "execution_count": null,
   "id": "70c6d7b0-998d-4fc3-95e2-d9e8ba5cc12b",
   "metadata": {},
   "outputs": [],
   "source": [
    "# model class for nextsim.dg\n",
    "model = c.models['nextsim.dg']\n",
    "\n",
    "model"
   ]
  },
  {
   "cell_type": "markdown",
   "id": "13a933c9-6ad1-4a97-94e7-94b58be912ed",
   "metadata": {},
   "source": [
    "### Truth run\n",
    "\n",
    "This part runs a single forecast through the time period of interest, and the resulting restart files are considered as the \"truth\".\n",
    "\n",
    "You can skip this section, the truth directory is already provided in the test data"
   ]
  },
  {
   "cell_type": "code",
   "execution_count": null,
   "id": "a1cfc070-821c-4fa9-8f07-23719e823b9e",
   "metadata": {},
   "outputs": [],
   "source": [
    "run_dir = os.path.join(model.truth_dir, 'run', 'ens_01')\n",
    "os.system(\"mkdir -p \"+run_dir)\n",
    "\n",
    "icbc_dir = \"/home/data-nextsim-workshop2025/assimilation/icbc\"\n",
    "init_file = os.path.join(icbc_dir, f\"restart{c.time_start:%Y-%m-%dT%H:%M:%SZ}.nc\")\n",
    "atmos_forcing_file = os.path.join(icbc_dir, \"25km_NH.ERA5.nc\")\n",
    "ocean_forcing_file = os.path.join(icbc_dir, \"25km_NH.TOPAZ4.nc\")\n",
    "for file in [init_file, atmos_forcing_file, ocean_forcing_file]:\n",
    "    os.system(f\"ln -fs {file} {run_dir}/.\")\n",
    "\n",
    "c.time = c.time_start\n",
    "while c.time < c.time_end:\n",
    "    file = f\"restart{c.time:%Y-%m-%dT%H:%M:%SZ}.bin\"\n",
    "    next_file = f\"restart{c.next_time:%Y-%m-%dT%H:%M:%SZ}.bin\"\n",
    "    print(f\"Running the model from condition {file} to reach {next_file}\")\n",
    "\n",
    "    model.run(path=os.path.join(model.truth_dir, 'run'),\n",
    "              member=0,\n",
    "              time=c.time,\n",
    "              forecast_period=c.cycle_period,\n",
    "              time_start=c.time_start,\n",
    "              time_end=c.time_end,\n",
    "              debug=c.debug,\n",
    "              **c.job_submit)\n",
    "\n",
    "    c.time = c.next_time\n",
    "\n",
    "# clean up\n",
    "os.system(f\"mv {run_dir}/restart*.nc {model.truth_dir}/.\")\n",
    "tmp_dir = os.path.join(model.truth_dir, 'run')\n",
    "os.system(f\"rm -rf {tmp_dir}\")\n",
    "print(\"done.\")"
   ]
  },
  {
   "cell_type": "markdown",
   "id": "7c25755a-a292-435e-a9fb-8ee038ac082c",
   "metadata": {},
   "source": [
    "### Visualize model state variables"
   ]
  },
  {
   "cell_type": "code",
   "execution_count": null,
   "id": "f4caddf5-fd88-4438-bf47-6434aca33962",
   "metadata": {},
   "outputs": [],
   "source": [
    "# list of variables in nextsim.dg model\n",
    "model.variables.keys()"
   ]
  },
  {
   "cell_type": "code",
   "execution_count": null,
   "id": "4f9b2d13-6168-4143-b92b-61c5b3caf29c",
   "metadata": {},
   "outputs": [],
   "source": [
    "# pick a variable to plot, sea ice concentration for example.\n",
    "vname = 'seaice_conc_dg'\n",
    "k = 0\n",
    "vmin = 0\n",
    "vmax = 1\n",
    "cmap = cmocean.cm.ice"
   ]
  },
  {
   "cell_type": "code",
   "execution_count": null,
   "id": "afe326ee-5104-47b2-9e67-5ac082a4ae4a",
   "metadata": {},
   "outputs": [],
   "source": [
    "vname = 'seaice_thick_dg'\n",
    "k = 0\n",
    "vmin = 0\n",
    "vmax = 3\n",
    "cmap = 'viridis'"
   ]
  },
  {
   "cell_type": "code",
   "execution_count": null,
   "id": "147a3c55-2f91-42d7-a3c2-0639bc3ad8b1",
   "metadata": {},
   "outputs": [],
   "source": [
    "vname = 'atmos_surf_velocity'\n",
    "vmin = 0\n",
    "vmax = 35\n",
    "cmap = 'PuBu'"
   ]
  },
  {
   "cell_type": "code",
   "execution_count": null,
   "id": "99ef45dd-5e58-4758-b653-cd9e4d84df95",
   "metadata": {},
   "outputs": [],
   "source": [
    "for n in range(ncycle):\n",
    "    time = c.time_start + n * c.cycle_period * timedelta(hours=1)\n",
    "    fld = model.read_var(path=model.truth_dir, time=time, name=vname)\n",
    "\n",
    "    fig, ax = plt.subplots(1,1,figsize=(6,4.5))\n",
    "\n",
    "    if model.variables[vname]['is_vector']:\n",
    "        model.grid.plot_field(ax, np.hypot(fld[0], fld[1]), vmin, vmax, cmap=cmap)\n",
    "        model.grid.plot_vectors(ax, fld)\n",
    "    else:\n",
    "        model.grid.plot_field(ax, fld, vmin, vmax, cmap=cmap)\n",
    "    add_colorbar(fig, ax, cmap, vmin, vmax)\n",
    "    model.grid.plot_land(ax, color='gray')\n",
    "    ax.set_title(f\"{vname} {time:%Y-%m-%d %H:%M:%SZ}\")\n",
    "\n",
    "    plt.savefig(os.path.join(model.truth_dir, f\"{vname}_{time:%Y-%m-%dT%H:%M:%SZ}.png\"))\n",
    "    plt.close()\n",
    "\n",
    "# show the last image\n",
    "display(Image(os.path.join(model.truth_dir, f\"{vname}_{time:%Y-%m-%dT%H:%M:%SZ}.png\")))"
   ]
  },
  {
   "cell_type": "code",
   "execution_count": null,
   "id": "a8e133cb-0f7d-4e8e-8424-f45d1deb390d",
   "metadata": {},
   "outputs": [],
   "source": [
    "# view figures\n",
    "slider_cycle = widgets.IntSlider(\n",
    "    value=0,\n",
    "    min=0,\n",
    "    max=ncycle-1,\n",
    "    step=1,\n",
    "    description='Cycle:',\n",
    "    continuous_update=False\n",
    ")\n",
    "output_cycle = widgets.Output()\n",
    "\n",
    "def update_plot(n):\n",
    "    with output_cycle:\n",
    "        clear_output(wait=True)\n",
    "        time = c.time_start + n * c.cycle_period * timedelta(hours=1)\n",
    "        display(Image(filename=os.path.join(model.truth_dir, f\"{vname}_{time:%Y-%m-%dT%H:%M:%SZ}.png\")))\n",
    "\n",
    "widgets.interact(update_plot, n=slider_cycle)\n",
    "display(output_cycle)"
   ]
  },
  {
   "cell_type": "markdown",
   "id": "2ad0a498-1a52-482d-8443-571b0daf2962",
   "metadata": {},
   "source": [
    "## Ensemble generation\n",
    "\n",
    "Ensemble forecast is a Monte-Carlo approach to better quantify the model forecast uncertainties.\n",
    "\n",
    "### Perturbation scheme"
   ]
  },
  {
   "cell_type": "markdown",
   "id": "15d1dfb8-3a7e-4344-8f66-a205a5020f68",
   "metadata": {},
   "source": [
    "Check the `perturb` section in model configuration `nextsim-config.yml` for details.\n",
    "\n",
    "You can try to change the parameters:\n",
    "\n",
    "- `amp` (standard deviation of perturbations)\n",
    "- `hcorr` (horizontal correlation length, in meters)\n",
    "- `tcorr` (temporal correlation length, in hours)\n",
    "\n",
    "By default the atmospheric forcing (wind) is perturbed using Evensen 1994 approach to generate ensemble members"
   ]
  },
  {
   "cell_type": "code",
   "execution_count": null,
   "id": "ecdab288-1bed-46d3-a8fe-da4e64ec99a2",
   "metadata": {},
   "outputs": [],
   "source": [
    "# generate ensemble by perturbed runs, test the effect of changing parameters\n",
    "def generate_init_ens():\n",
    "    c.time = c.time_start\n",
    "    os.system(\"mkdir -p \"+c.cycle_dir(c.time))\n",
    "    # preprocessing, linking files and perturbing boundary forcing files\n",
    "    scheme.run_step(c, 'preprocess', mpi=False)\n",
    "    # run ensemble forecast step\n",
    "    scheme.run_step(c, 'ensemble_forecast', mpi=False)\n",
    "\n",
    "generate_init_ens()"
   ]
  },
  {
   "cell_type": "markdown",
   "id": "569339b3-cb4a-4f23-ac17-a113e501b86a",
   "metadata": {},
   "source": [
    "### Visualize the ensemble members"
   ]
  },
  {
   "cell_type": "code",
   "execution_count": null,
   "id": "20f5a32e-65c9-4ad9-b438-210a08caf002",
   "metadata": {},
   "outputs": [],
   "source": [
    "vname = 'seaice_conc_dg'\n",
    "k = 0\n",
    "vmin = 0\n",
    "vmax = 1\n",
    "cmap = cmocean.cm.ice"
   ]
  },
  {
   "cell_type": "code",
   "execution_count": null,
   "id": "92bbe9e9-eb1a-4019-bfb5-82c844f1a9ac",
   "metadata": {},
   "outputs": [],
   "source": [
    "vname = 'seaice_thick_dg'\n",
    "k = 0\n",
    "vmin = 0\n",
    "vmax = 3\n",
    "cmap = 'viridis'"
   ]
  },
  {
   "cell_type": "code",
   "execution_count": null,
   "id": "25d47921-6275-4702-97d5-3cd0ce6a3c42",
   "metadata": {},
   "outputs": [],
   "source": [
    "vname = 'atmos_surf_velocity'\n",
    "vmin = 0\n",
    "vmax = 35\n",
    "cmap = 'PuBu'"
   ]
  },
  {
   "cell_type": "code",
   "execution_count": null,
   "id": "4e1b7036-8fa2-4251-b0fe-e4ff8da39a04",
   "metadata": {},
   "outputs": [],
   "source": [
    "# plot ensemble state for visualization\n",
    "c.time = c.time_start\n",
    "path = c.forecast_dir(c.time, 'nextsim.dg')\n",
    "\n",
    "for mem_id in range(c.nens):\n",
    "    fld = model.read_var(path=path, time=c.next_time, name=vname, member=mem_id)\n",
    "\n",
    "    fig, ax = plt.subplots(1,1,figsize=(6,4.5))\n",
    "\n",
    "    if model.variables[vname]['is_vector']:\n",
    "        model.grid.plot_field(ax, np.hypot(fld[0], fld[1]), vmin, vmax, cmap=cmap)\n",
    "        model.grid.plot_vectors(ax, fld)\n",
    "    else:\n",
    "        model.grid.plot_field(ax, fld, vmin, vmax, cmap=cmap)\n",
    "    add_colorbar(fig, ax, cmap, vmin, vmax)\n",
    "    model.grid.plot_land(ax, color='gray')\n",
    "    ax.set_title(f\"member {mem_id+1:02} {vname} {c.next_time:%Y-%m-%d %H:%M:%SZ}\")\n",
    "\n",
    "    plt.savefig(os.path.join(path, f\"mem{mem_id+1:02}_{vname}_{c.next_time:%Y-%m-%dT%H:%M:%SZ}.png\"))\n",
    "    plt.close()\n",
    "\n",
    "# show the last image\n",
    "display(Image(os.path.join(path, f\"mem{mem_id+1:02}_{vname}_{c.next_time:%Y-%m-%dT%H:%M:%SZ}.png\")))"
   ]
  },
  {
   "cell_type": "code",
   "execution_count": null,
   "id": "6d1317db-d7b3-482b-acdf-57f405de5def",
   "metadata": {},
   "outputs": [],
   "source": [
    "c.time = c.time_start\n",
    "\n",
    "slider_mem = widgets.IntSlider(\n",
    "    value=0,\n",
    "    min=1,\n",
    "    max=c.nens,\n",
    "    step=1,\n",
    "    description='Member:',\n",
    "    continuous_update=False\n",
    ")\n",
    "output_mem = widgets.Output()\n",
    "\n",
    "def update_plot(mem_id):\n",
    "    with output_mem:\n",
    "        clear_output(wait=True)\n",
    "        path = c.forecast_dir(c.time, 'nextsim.dg')\n",
    "        time = c.next_time\n",
    "        display(Image(filename=os.path.join(path, f\"mem{mem_id:02}_{vname}_{c.next_time:%Y-%m-%dT%H:%M:%SZ}.png\")))\n",
    "\n",
    "widgets.interact(update_plot, mem_id=slider_mem)\n",
    "display(output_mem)"
   ]
  },
  {
   "cell_type": "markdown",
   "id": "be657469-bb69-4004-af9c-9a89f9d1173e",
   "metadata": {},
   "source": [
    "### Free ensemble run\n",
    "\n",
    "The following code runs the free ensemble without assimilation,\n",
    "if you didn't change any setting, this can be skipped (cycle-free is already in the test data)"
   ]
  },
  {
   "cell_type": "code",
   "execution_count": null,
   "id": "78b7db20-8a1f-44d9-8337-2b4bf2145df9",
   "metadata": {
    "scrolled": true
   },
   "outputs": [],
   "source": [
    "# run free ensemble (NoDA) for the entire time period\n",
    "def run_free_ens():\n",
    "    c.time = c.time_start\n",
    "    \n",
    "    while c.time < c.time_end:\n",
    "        print(f\"\\n\\033[1;33mCURRENT CYCLE\\033[0m: {c.time} => {c.next_time}\", flush=True)\n",
    "        os.system(\"mkdir -p \"+c.cycle_dir(c.time))\n",
    "\n",
    "        # preprocessing, linking files and perturbing boundary forcing files\n",
    "        scheme.run_step(c, 'preprocess', mpi=False)\n",
    "\n",
    "        # run ensemble forecast step\n",
    "        scheme.run_step(c, 'ensemble_forecast', mpi=False)\n",
    "\n",
    "        # advance to next cycle\n",
    "        c.time = c.next_time\n",
    "\n",
    "run_free_ens()\n"
   ]
  },
  {
   "cell_type": "code",
   "execution_count": null,
   "id": "53a3c3b2-e529-4aa4-9915-f20c07b55939",
   "metadata": {},
   "outputs": [],
   "source": [
    "%%bash\n",
    "\n",
    "cd /home/data-nextsim-workshop2025/assimilation\n",
    "rm -rf cycle-free\n",
    "cp -r cycle cycle-free"
   ]
  },
  {
   "cell_type": "markdown",
   "id": "2dd194b5-0332-428a-b674-8d4f990113f5",
   "metadata": {},
   "source": [
    "### Diagnostic error and ensemble spread\n",
    "\n"
   ]
  },
  {
   "cell_type": "code",
   "execution_count": null,
   "id": "545265f4-aa45-4c97-9384-d3fa4ffc0b7b",
   "metadata": {},
   "outputs": [],
   "source": [
    "def get_error_stats(path, time, vname):\n",
    "    \"\"\"\n",
    "    Compute error statistics:\n",
    "    \n",
    "    Returns:\n",
    "        domain-averaged rmse of ensemble mean versus truth.\n",
    "        domain-averaged ensemble spread.\n",
    "    \"\"\"\n",
    "    truth = model.read_var(path=model.truth_dir, time=time, name=vname)\n",
    "\n",
    "    # ensemble mean state\n",
    "    mean = np.zeros(c.grid.x.shape)\n",
    "    for mem_id in range(c.nens):\n",
    "        mean += model.read_var(path=path, time=time, name=vname, member=mem_id)\n",
    "    mean /= c.nens\n",
    "\n",
    "    # ensemble spread\n",
    "    vari = np.zeros(c.grid.x.shape)\n",
    "    for mem_id in range(c.nens):\n",
    "        mem = model.read_var(path=path, time=time, name=vname, member=mem_id)\n",
    "        vari += (mem - mean)**2\n",
    "    vari /= c.nens-1\n",
    "\n",
    "    rmse = np.sqrt(np.nanmean((mean - truth)**2))\n",
    "    sprd = np.sqrt(np.nanmean(vari))\n",
    "    return rmse, sprd\n",
    "\n",
    "def get_error_ts(cycle_dir, vname):\n",
    "    \"\"\"\n",
    "    Compute error and ensemble spread time series\n",
    "    \"\"\"\n",
    "    ts = []\n",
    "    rmse_ts = []\n",
    "    sprd_ts = []\n",
    "    dt = c.cycle_period * timedelta(hours=1)\n",
    "    for n in range(ncycle):\n",
    "        time = c.time_start + n * dt\n",
    "        path = os.path.join(cycle_dir, f'{time:%Y%m%d%H%M}', 'nextsim.dg')\n",
    "\n",
    "        rmse, sprd = get_error_stats(path, time, vname)\n",
    "        rmse_ts.append(rmse)\n",
    "        sprd_ts.append(sprd)\n",
    "        ts.append(time)\n",
    "        \n",
    "        next_time = c.time_start + (n+1) * dt\n",
    "        rmse, sprd = get_error_stats(path, next_time, vname)\n",
    "        rmse_ts.append(rmse)\n",
    "        sprd_ts.append(sprd)\n",
    "        ts.append(next_time)\n",
    "    return ts, rmse_ts, sprd_ts"
   ]
  },
  {
   "cell_type": "code",
   "execution_count": null,
   "id": "5de1f393-c8f4-4592-8308-7c85b198011e",
   "metadata": {},
   "outputs": [],
   "source": [
    "vname = 'seaice_conc'\n",
    "\n",
    "cycle_dir = \"/home/data-nextsim-workshop2025/assimilation/cycle-free\"\n",
    "ts, rmse_ts_free, sprd_ts_free = get_error_ts(cycle_dir, vname)\n",
    "plt.plot(ts, rmse_ts_free, 'k-', label='free run: rmse')\n",
    "plt.plot(ts, sprd_ts_free, 'k:', label='free run: spread')\n",
    "\n",
    "plt.gca().xaxis.set_major_formatter(mdates.DateFormatter('%m-%d %HZ'))\n",
    "plt.legend()\n",
    "plt.title(vname)\n",
    "plt.xticks(rotation=45);"
   ]
  },
  {
   "cell_type": "markdown",
   "id": "f2a4525c-68f9-487c-80e6-4dcec80df043",
   "metadata": {},
   "source": [
    "## Assimilate single observation\n",
    "\n",
    "It is easier to understand DA by starting with a scalar case, in this section we try to assimilate only 1 seaice_conc observation and see how the EnKF uses this information to correct the model state variables.\n",
    "\n",
    "### Prepare the experiment\n",
    "\n",
    "Since we are just assimilating 1 obs, a much larger ensemble size (99) will be used in this case. The large_ens directory contains the restart files for each member already."
   ]
  },
  {
   "cell_type": "code",
   "execution_count": null,
   "id": "7c4427d7-af7d-4562-9c9a-b9793d5dc3eb",
   "metadata": {},
   "outputs": [],
   "source": [
    "workdir = '/home/data-nextsim-workshop2025/assimilation/single-obs'\n",
    "os.environ['workdir'] = workdir"
   ]
  },
  {
   "cell_type": "code",
   "execution_count": null,
   "id": "387ca3e4-3051-45f8-9a74-c8d205251858",
   "metadata": {},
   "outputs": [],
   "source": [
    "%%bash\n",
    "\n",
    "mkdir -p $workdir/cycle/201001020000/nextsim.dg\n",
    "cd $workdir/cycle/201001020000/nextsim.dg\n",
    "ln -fs /home/data-nextsim-workshop2025/assimilation/large_ens/* ."
   ]
  },
  {
   "cell_type": "code",
   "execution_count": null,
   "id": "4635d68f-c4ed-4df1-b6dd-d0787c0955a6",
   "metadata": {},
   "outputs": [],
   "source": [
    "# some preparation, use large_ens case for this section\n",
    "time = datetime(2010, 1, 2, tzinfo=timezone.utc)\n",
    "c1 = Config(config_file=config_file, nproc=nproc, nens=99, work_dir=workdir, time=time, debug=False, iter=0)\n",
    "\n",
    "from NEDAS.assim_tools.state import State\n",
    "state1 = State(c1)\n",
    "\n",
    "from NEDAS.assim_tools.obs import Obs\n",
    "obs1 = Obs(c1, state1)\n",
    "\n",
    "model1 = c1.models['nextsim.dg']"
   ]
  },
  {
   "cell_type": "markdown",
   "id": "b798f9bc-ac09-41d0-901f-f9ba710a4cc4",
   "metadata": {},
   "source": [
    "### Create the observation"
   ]
  },
  {
   "cell_type": "code",
   "execution_count": null,
   "id": "29662ad3-f0eb-4215-94c3-3df17652fa12",
   "metadata": {},
   "outputs": [],
   "source": [
    "#define obs location in domain\n",
    "obs_x = 0.44e6\n",
    "obs_y = -0.22e6\n",
    "\n",
    "obs1.obs_seq = {\n",
    "    'obs': [],\n",
    "    't': np.array([c.time_analysis_start]),\n",
    "    'x': np.array([obs_x]),\n",
    "    'y': np.array([obs_y]),\n",
    "    'z': np.array([0]),\n",
    "}\n",
    "\n",
    "obs_rec_id = 0\n",
    "obs_rec = obs1.info['records'][obs_rec_id]\n",
    "obs_rec['nobs'] = 1\n"
   ]
  },
  {
   "cell_type": "code",
   "execution_count": null,
   "id": "f8b7512c-d8e8-4797-b797-51c2139c2e07",
   "metadata": {},
   "outputs": [],
   "source": [
    "# compute obs from truth\n",
    "# member=None indicates using truth files for synthetic obs\n",
    "obs1.obs_seq['obs'] = obs1.state_to_obs(c1, state1, 'prior', member=None, **obs_rec, **obs1.obs_seq)\n",
    "\n",
    "# add perturbation (obs error)\n",
    "obs_err = obs_rec['err']['std']\n",
    "obs1.obs_seq['obs'] += np.random.normal(0, 1) * obs_err\n",
    "\n",
    "obs1.obs_seq"
   ]
  },
  {
   "cell_type": "code",
   "execution_count": null,
   "id": "48045cb7-9be4-4671-9f9d-2aaea5a60031",
   "metadata": {},
   "outputs": [],
   "source": [
    "# compute obs_prior from members restart files\n",
    "for mem_id in range(c1.nens):\n",
    "    obs1.obs_prior_seq[mem_id, obs_rec_id] = obs1.state_to_obs(c1, state1, 'prior', member=mem_id, **obs_rec, **obs1.obs_seq)\n",
    "\n",
    "obs_val = obs1.obs_seq['obs'].item()\n",
    "obs_prior_ens = []\n",
    "for key, val in obs1.obs_prior_seq.items():\n",
    "    obs_prior_ens.append(val.item())\n",
    "obs_prior_ens = np.array(obs_prior_ens)\n",
    "\n",
    "obs_prior_ens"
   ]
  },
  {
   "cell_type": "markdown",
   "id": "b96e3a32-0708-4a9e-9629-16e06b25a7b9",
   "metadata": {},
   "source": [
    "### Visualize obs-state error distribution"
   ]
  },
  {
   "cell_type": "code",
   "execution_count": null,
   "id": "8ba2352a-e8ba-435c-8a99-e72428abd0c2",
   "metadata": {},
   "outputs": [],
   "source": [
    "# pick a model state variable to be updated by the obs\n",
    "vname = 'seaice_conc_dg'\n",
    "k = 0  ##dg component\n",
    "vmin = 0\n",
    "vmax = 1\n",
    "cmap = cmocean.cm.ice"
   ]
  },
  {
   "cell_type": "code",
   "execution_count": null,
   "id": "ea25c006-6d90-4d0c-8c70-451cae930293",
   "metadata": {},
   "outputs": [],
   "source": [
    "vname = 'seaice_thick_dg'\n",
    "k = 0  ##dg component\n",
    "vmin = 0\n",
    "vmax = 3\n",
    "cmap = 'viridis'"
   ]
  },
  {
   "cell_type": "code",
   "execution_count": null,
   "id": "993348cf-6544-4083-a029-7651e4e9c8c0",
   "metadata": {},
   "outputs": [],
   "source": [
    "# compute ensemble covariance between obs and model state\n",
    "fld_truth = model1.read_var(path=model1.truth_dir, time=c1.time, name=vname, k=k)\n",
    "\n",
    "path = c1.forecast_dir(c1.time, 'nextsim.dg')\n",
    "\n",
    "fld_prior_ens = np.zeros((c1.nens,)+c1.grid.x.shape)\n",
    "for mem_id in range(c1.nens):\n",
    "    fld_prior_ens[mem_id, ...] = model1.read_var(path=path, member=mem_id, time=c1.time, name=vname, k=k)\n",
    "fld_prior_mean = np.mean(fld_prior_ens, axis=0)    \n",
    "obs_prior_mean = np.mean(obs_prior_ens)\n",
    "\n",
    "cov = np.zeros(c1.grid.x.shape)\n",
    "fld_prior_var = np.zeros(c1.grid.x.shape)\n",
    "obs_prior_var = 0\n",
    "for mem_id in range(c1.nens):\n",
    "    cov += ((fld_prior_ens[mem_id,...] - fld_prior_mean) * (obs_prior_ens[mem_id] - obs_prior_mean))\n",
    "    fld_prior_var += (fld_prior_ens[mem_id,...] - fld_prior_mean)**2\n",
    "    obs_prior_var += (obs_prior_ens[mem_id] - obs_prior_mean)**2\n",
    "cov /= c1.nens-1\n",
    "fld_prior_var /= c1.nens-1\n",
    "obs_prior_var /= c1.nens-1\n",
    "\n",
    "fld_prior_var[np.where(fld_prior_var==0)] = 1e-10\n",
    "\n",
    "corr = cov / np.sqrt(fld_prior_var * obs_prior_var)"
   ]
  },
  {
   "cell_type": "code",
   "execution_count": null,
   "id": "ecc78f1f-ec8b-4306-8bf7-a221452a1e6b",
   "metadata": {},
   "outputs": [],
   "source": [
    "# sliders to interactively pick i,j state location\n",
    "i, j = 52, 14\n",
    "i_slider = widgets.IntSlider(value=i, min=0, max=c1.grid.nx-1, description='i:', orientation='horizontal')\n",
    "j_slider = widgets.IntSlider(value=j, min=0, max=c1.grid.ny-1, description='j:', orientation='vertical')\n",
    "\n",
    "def plot_corr_map(i, j):\n",
    "    clear_output(wait=True)\n",
    "    fig, ax = plt.subplots(1, 3, figsize=(18, 4))\n",
    "\n",
    "    # Truth field\n",
    "    c1.grid.plot_field(ax[0], fld_truth, vmin, vmax, cmap=cmap)\n",
    "    add_colorbar(fig, ax[0], cmap, vmin, vmax)\n",
    "    ax[0].set_title(f\"Truth: {vname}\")\n",
    "    \n",
    "    # Correlation map\n",
    "    c1.grid.plot_field(ax[1], corr, vmin=-1, vmax=1, cmap=cmocean.cm.balance)\n",
    "    add_colorbar(fig, ax[1], cmocean.cm.balance, -1, 1)\n",
    "    ax[1].set_title(f\"Corr(seaice_conc, {vname})\")\n",
    "\n",
    "    for l in range(2):\n",
    "        c1.grid.plot_land(ax[l], color='gray')\n",
    "        ax[l].plot(obs_x, obs_y, 'k.', markersize=10)\n",
    "        ax[l].plot(c1.grid.x[j, i], c1.grid.y[j, i], 'k+', markersize=10)\n",
    "\n",
    "    # Scatter plot\n",
    "    ax[2].scatter(obs_prior_ens, fld_prior_ens[:, j, i], color='c')\n",
    "    fldmin = min(fld_prior_ens[:, j, i])\n",
    "    fldmax = max(fld_prior_ens[:, j, i])\n",
    "    ax[2].plot([obs_val, obs_val], [fldmin, fldmax], 'y', linewidth=3, alpha=0.5)\n",
    "    ax[2].set_xlabel('Obs: seaice_conc', fontsize=12)\n",
    "    ax[2].set_ylabel(f'State: {vname} (+)', fontsize=12)\n",
    "    ax[2].set_title(\"Obs-state bivariate relation\")\n",
    "\n",
    "    pos = ax[2].get_position()\n",
    "    ax[2].set_position([pos.x0 + 0.02, pos.y0, pos.width - 0.02, pos.height])\n",
    "    plt.show()\n",
    "\n",
    "output_corr = widgets.Output()\n",
    "\n",
    "def plot(i, j):\n",
    "    with output_corr:\n",
    "        plot_corr_map(i, j)\n",
    "\n",
    "interactive_plot = widgets.interactive_output(plot, {'i': i_slider, 'j': j_slider})\n",
    "\n",
    "# Layout: vertical j_slider to the left of plot and i_slider above\n",
    "ui = widgets.VBox([\n",
    "    i_slider,\n",
    "    widgets.HBox([\n",
    "        j_slider,\n",
    "        output_corr,\n",
    "    ])\n",
    "])\n",
    "\n",
    "display(ui, interactive_plot)"
   ]
  },
  {
   "cell_type": "code",
   "execution_count": null,
   "id": "595d2483-5758-429f-ab2c-8c988530fd02",
   "metadata": {},
   "outputs": [],
   "source": [
    "# observation at . position\n",
    "# state variable at + position\n",
    "# left: true state; middle: correlation between obs and state; right: bivariate relation between obs and state\n",
    "plot_corr_map(i, j)"
   ]
  },
  {
   "cell_type": "markdown",
   "id": "8cd81509-74af-40f5-8cd5-e0d42e5641f1",
   "metadata": {},
   "source": [
    "### Analysis with EnKF\n",
    "\n",
    "We use the Ensemble Adjustment Kalman Filter (EAKF; Anderson 2003) variant of EnKF to compute the increment."
   ]
  },
  {
   "cell_type": "code",
   "execution_count": null,
   "id": "784b3678-a05d-4329-aa76-6687cbdd8d0a",
   "metadata": {},
   "outputs": [],
   "source": [
    "# filter parameters (change them to see their effect)\n",
    "\n",
    "# specified obs error in computing obs likelihood\n",
    "obs_err = 0.01 #obs_rec['err']['std']\n",
    "\n",
    "# localization distance\n",
    "hroi = 5e5 #obs_rec['hroi']"
   ]
  },
  {
   "cell_type": "code",
   "execution_count": null,
   "id": "ee39c7af-050c-4645-a719-0b06b70c18a3",
   "metadata": {},
   "outputs": [],
   "source": [
    "from NEDAS.assim_tools.assimilators.EAKF.core import obs_increment_eakf, update_ensemble\n",
    "from NEDAS.assim_tools.localization.distance_based import gaspari_cohn_func\n",
    "\n",
    "# obs-space analysis increment\n",
    "obs_incr = obs_increment_eakf(obs_prior_ens, obs_val, obs_err)\n",
    "\n",
    "# localization factor\n",
    "fld_dist = c1.grid.distance(obs_x, c1.grid.x, obs_y, c1.grid.y, p=2, type='cartesian')\n",
    "fld_local_factor = gaspari_cohn_func(fld_dist, hroi)\n",
    "\n",
    "# update state priors\n",
    "fld_post_ens = update_ensemble(fld_prior_ens, obs_prior_ens, obs_incr, fld_local_factor)\n",
    "\n",
    "# update obs priors\n",
    "obs_post_ens = update_ensemble(obs_prior_ens, obs_prior_ens, obs_incr, 1)"
   ]
  },
  {
   "cell_type": "code",
   "execution_count": null,
   "id": "830f8fa5-d0f3-4d8c-bb85-ff9bfff6ceb7",
   "metadata": {},
   "outputs": [],
   "source": [
    "i, j = 52, 13\n",
    "\n",
    "fig = plt.figure(figsize=(6, 6))\n",
    "\n",
    "gs = gridspec.GridSpec(4, 4)\n",
    "ax_scatter = fig.add_subplot(gs[1:4, 0:3])  # main scatter plot\n",
    "ax_histx = fig.add_subplot(gs[0, 0:3], sharex=ax_scatter)  # x histogram\n",
    "ax_histy = fig.add_subplot(gs[1:4, 3], sharey=ax_scatter)  # y histogram\n",
    "plt.setp(ax_histx.get_xticklabels(), visible=False)\n",
    "plt.setp(ax_histy.get_yticklabels(), visible=False)\n",
    "\n",
    "prior_bin_color = 'c'\n",
    "post_bin_color = [.7, .3, .3]\n",
    "obs_bin_color = 'y'\n",
    "\n",
    "def plot_histogram(ax, data, bincolor, bin_wd=0.01, alpha=1, orientation='vertical', label=''):\n",
    "    nbins = int((max(data) - min(data)) / bin_wd)\n",
    "    ax.hist(data, bins=nbins, color=bincolor, orientation=orientation, density=True, alpha=alpha, label=label) \n",
    "\n",
    "# Scatter plot\n",
    "ax_scatter.scatter(obs_prior_ens, fld_prior_ens[:,j,i], color=prior_bin_color)\n",
    "fldmin = min(np.hstack([fld_post_ens[:, j, i], fld_prior_ens[:, j, i]]))\n",
    "fldmax = max(np.hstack([fld_post_ens[:, j, i], fld_prior_ens[:, j, i]]))\n",
    "ax_scatter.plot([obs_val, obs_val], [fldmin, fldmax], 'y', linewidth=3, alpha=0.5)\n",
    "ax_scatter.scatter(obs_post_ens, fld_post_ens[:,j,i], color=post_bin_color, alpha=0.7)\n",
    "ax_scatter.plot(np.array([obs_prior_ens, obs_post_ens]), np.array([fld_prior_ens[:,j,i], fld_post_ens[:,j,i]]), 'k', linewidth=0.5, alpha=0.3)\n",
    "ax_scatter.set_xlabel(\"Obs: seaice_conc\", fontsize=12)\n",
    "ax_scatter.set_ylabel(f\"State: {vname}\", fontsize=12)\n",
    "\n",
    "# Histogram obs\n",
    "# prior\n",
    "plot_histogram(ax_histx, obs_prior_ens, prior_bin_color, label='prior')\n",
    "# simulate obs likelihood with random sampling\n",
    "obs_sample = obs_val + obs_err * np.random.normal(0, 1, c1.nens)\n",
    "plot_histogram(ax_histx, obs_sample, obs_bin_color, alpha=0.5, label='obs likelihood')\n",
    "# posterior\n",
    "plot_histogram(ax_histx, obs_post_ens, post_bin_color, alpha=0.7, label='posterior')\n",
    "ax_histx.legend()\n",
    "\n",
    "# Histogram state\n",
    "plot_histogram(ax_histy, fld_prior_ens[:,j,i], prior_bin_color, orientation='horizontal')\n",
    "plot_histogram(ax_histy, fld_post_ens[:,j,i], post_bin_color, orientation='horizontal', alpha=0.7)\n",
    "\n",
    "plt.tight_layout()"
   ]
  },
  {
   "cell_type": "code",
   "execution_count": null,
   "id": "51294155-850f-49dd-b014-d35b0647926b",
   "metadata": {},
   "outputs": [],
   "source": [
    "mem_id = 0\n",
    "\n",
    "vmin_incr = -0.1\n",
    "vmax_incr = 0.1\n",
    "cmap_incr = cmocean.cm.balance\n",
    "\n",
    "fig, ax = plt.subplots(1, 1, figsize=(6,4.5))\n",
    "c1.grid.plot_field(ax, (fld_post_ens - fld_prior_ens)[mem_id,...], vmin_incr, vmax_incr, cmap=cmap_incr)\n",
    "add_colorbar(fig, ax, cmap_incr, vmin_incr, vmax_incr)\n",
    "\n",
    "c1.grid.plot_land(ax, color='gray')\n",
    "ax.plot(obs_x, obs_y, 'k.', markersize=10)\n",
    "ax.set_title(f\"analysis increment {vname}, member {mem_id+1}\")\n"
   ]
  },
  {
   "cell_type": "markdown",
   "id": "856cdca7-4347-40ee-9a13-2a32222fb486",
   "metadata": {},
   "source": [
    "## Cycling DA\n",
    "\n",
    "Now we better understand how EnKF works, it is time to test it in a cycling DA experiment.\n",
    "The time period of interest is divided into analysis cycles, at each cycle:\n",
    "\n",
    "- Preprocess: link necessary files, add perturbation, other model-specific things\n",
    "- Run EnKF to assimilate observations and update the restart files\n",
    "- Postprocess: fix anything not physical due to assimilation\n",
    "- Run the model forecasts to the next cycle\n",
    "\n",
    "### Run the experiment"
   ]
  },
  {
   "cell_type": "code",
   "execution_count": null,
   "id": "14a97b73-a0ec-4448-92a4-eaad213ba632",
   "metadata": {},
   "outputs": [],
   "source": [
    "# reload configuration from config.yml\n",
    "c = Config(config_file=config_file, nproc=nproc, nens=nens, debug=False)"
   ]
  },
  {
   "cell_type": "code",
   "execution_count": null,
   "id": "51db0dbe-f855-426e-ae86-35f0a2432651",
   "metadata": {},
   "outputs": [],
   "source": [
    "# give this experiment a code name\n",
    "\n",
    "expt = 'ctrl'\n",
    "os.environ['expt'] = expt"
   ]
  },
  {
   "cell_type": "code",
   "execution_count": null,
   "id": "54761b2b-39ec-49be-9973-2323ec9e4b65",
   "metadata": {
    "scrolled": true
   },
   "outputs": [],
   "source": [
    "##rerun cycling experiment from previous free ens run\n",
    "\n",
    "def run_analysis():\n",
    "    c.time = c.time_analysis_start\n",
    "    while c.time < c.time_end:\n",
    "        print(f\"\\n\\033[1;33mCURRENT CYCLE\\033[0m: {c.time} => {c.next_time}\", flush=True)\n",
    "\n",
    "        # don't need to run scheme.preprocess to link files and perturb again\n",
    "        # only copy the restart files from previous cycle\n",
    "        for mem_id in range(c.nens):\n",
    "            file1 = model.filename(path=c.forecast_dir(c.prev_time, 'nextsim.dg'), member=mem_id, time=c.time) \n",
    "            file2 = model.filename(path=c.forecast_dir(c.time, 'nextsim.dg'), member=mem_id, time=c.time)\n",
    "            os.system(f\"cp {file1} {file2}\")\n",
    "\n",
    "        # run data assimilation\n",
    "        scheme.run_step(c, 'filter', mpi=True)\n",
    "\n",
    "        # postprocess model variables\n",
    "        scheme.run_step(c, 'postprocess', mpi=False)\n",
    "\n",
    "        # ensemble forecast step\n",
    "        scheme.run_step(c, 'ensemble_forecast', mpi=False)\n",
    "\n",
    "        # advance to next cycle\n",
    "        c.time = c.next_time\n",
    "\n",
    "run_analysis()"
   ]
  },
  {
   "cell_type": "markdown",
   "id": "eba4856e-0db7-409b-952f-15e1878ef219",
   "metadata": {},
   "source": [
    "### Visualize analysis increments in obs- and state-space"
   ]
  },
  {
   "cell_type": "code",
   "execution_count": null,
   "id": "ce7a6cf5-a80b-445d-912a-3be93c299d0e",
   "metadata": {},
   "outputs": [],
   "source": [
    "##which time\n",
    "c.time = datetime(2010, 1, 2, 0, tzinfo=timezone.utc)\n",
    "\n",
    "##which member to show increments\n",
    "mem_id = 0"
   ]
  },
  {
   "cell_type": "code",
   "execution_count": null,
   "id": "3393279b-9554-4d53-b849-40ea2f72b1ad",
   "metadata": {},
   "outputs": [],
   "source": [
    "##plot obs network and innovations\n",
    "##which obs variable to show?\n",
    "vname = 'seaice_conc'\n",
    "obs_rec_id = 0\n",
    "k = 0\n",
    "vmin = 0\n",
    "vmax = 1\n",
    "cmap = cmocean.cm.ice\n",
    "vmin_diff = -0.1\n",
    "vmax_diff = 0.1\n",
    "cmap_diff = cmocean.cm.balance\n",
    "\n",
    "# obs sequence\n",
    "seq = np.load(os.path.join(c.analysis_dir(c.time), f\"obs_seq.rec{obs_rec_id}.npy\"), allow_pickle=True).item()\n",
    "# obs prior sequence for member\n",
    "prior_seq = np.load(os.path.join(c.analysis_dir(c.time), f\"obs_prior_seq.rec{obs_rec_id}.mem{mem_id:03}.npy\"), allow_pickle=True)\n",
    "\n",
    "fig, ax = plt.subplots(1, 2, figsize=(12,4))\n",
    "\n",
    "# plot the obs seq\n",
    "c.grid.plot_scatter(ax[0], seq['obs'], x=seq['x'], y=seq['y'], vmin=vmin, vmax=vmax, cmap=cmap, markersize=20)\n",
    "add_colorbar(fig, ax[0], cmap, vmin, vmax)\n",
    "ax[0].set_title(f\"Obs {vname} {c.time:%Y-%m-%d %H:%M:%S}\")\n",
    "\n",
    "# plot the innovations\n",
    "c.grid.plot_scatter(ax[1], seq['obs']-prior_seq, x=seq['x'], y=seq['y'], vmin=vmin_diff, vmax=vmax_diff, cmap=cmap_diff, markersize=20)\n",
    "add_colorbar(fig, ax[1], cmap_diff, vmin_diff, vmax_diff)\n",
    "ax[1].set_title(f\"Innovation member {mem_id+1}\")\n",
    "\n",
    "for l in range(2):\n",
    "    c.grid.plot_land(ax[l], color='gray')\n"
   ]
  },
  {
   "cell_type": "code",
   "execution_count": null,
   "id": "ddd69561-9577-4140-aa69-a36f99f49ac2",
   "metadata": {},
   "outputs": [],
   "source": [
    "#plot analysis increment\n",
    "\n",
    "##which state variable to show?\n",
    "vname = 'seaice_conc_dg'\n",
    "k = 0\n",
    "vmin = 0\n",
    "vmax = 1\n",
    "cmap = cmocean.cm.ice\n",
    "vmin_diff = -0.1\n",
    "vmax_diff = 0.1\n",
    "cmap_diff = cmocean.cm.balance\n",
    "\n",
    "# read from model restart files\n",
    "path = c.forecast_dir(c.prev_time, 'nextsim.dg')\n",
    "fld0 = model.read_var(path=path, member=mem_id, time=c.time, name=vname, k=k)\n",
    "path = c.forecast_dir(c.time, 'nextsim.dg')\n",
    "fld1 = model.read_var(path=path, member=mem_id, time=c.time, name=vname, k=k)\n",
    "\n",
    "fig, ax = plt.subplots(1, 2, figsize=(12,4))\n",
    "\n",
    "c.grid.plot_field(ax[0], fld0[...], vmin, vmax, cmap=cmap)\n",
    "add_colorbar(fig, ax[0], cmap, vmin, vmax)\n",
    "ax[0].set_title(f\"Prior {vname} member {mem_id+1}\")\n",
    "\n",
    "c.grid.plot_field(ax[1], (fld1-fld0)[...], vmin_diff, vmax_diff, cmap=cmap_diff)\n",
    "add_colorbar(fig, ax[1], cmap_diff, vmin_diff, vmax_diff)\n",
    "ax[1].set_title(f\"Analysis increment {vname} member {mem_id+1}\")\n",
    "\n",
    "for l in range(2):\n",
    "    c.grid.plot_land(ax[l], color='gray')\n"
   ]
  },
  {
   "cell_type": "markdown",
   "id": "2ca4569e-c189-4ca0-b6de-ed82f22c8dee",
   "metadata": {},
   "source": [
    "### Diagnose error and ensemble spread"
   ]
  },
  {
   "cell_type": "code",
   "execution_count": null,
   "id": "d2a45687-8fe3-4f41-8b80-60d3fcc50a4f",
   "metadata": {},
   "outputs": [],
   "source": [
    "%%bash\n",
    "\n",
    "# make a copy of the work_dir, for comparison later\n",
    "cd /home/data-nextsim-workshop2025/assimilation\n",
    "rm -rf cycle-$expt\n",
    "cp -r cycle cycle-$expt"
   ]
  },
  {
   "cell_type": "code",
   "execution_count": null,
   "id": "17599c21-f024-4535-98a4-311a55bb23f2",
   "metadata": {},
   "outputs": [],
   "source": [
    "vname = 'seaice_conc'\n",
    "\n",
    "plt.figure(figsize=(5,6))\n",
    "\n",
    "# free run\n",
    "cycle_dir = \"/home/data-nextsim-workshop2025/assimilation/cycle-free\"\n",
    "ts, rmse_ts_free, sprd_ts_free = get_error_ts(cycle_dir, vname)\n",
    "plt.plot(ts, rmse_ts_free, 'k-', label='free run: rmse')\n",
    "plt.plot(ts, sprd_ts_free, 'k:', label='free run: spread')\n",
    "\n",
    "# from the experiment\n",
    "cycle_dir = f\"/home/data-nextsim-workshop2025/assimilation/cycle-{expt}\"\n",
    "ts, rmse_ts, sprd_ts = get_error_ts(cycle_dir, vname)\n",
    "plt.plot(ts, rmse_ts, 'b-', label=f'{expt}: rmse')\n",
    "plt.plot(ts, sprd_ts, 'c:', label=f'{expt}: spread')\n",
    "\n",
    "# add annotation\n",
    "plt.gca().xaxis.set_major_formatter(mdates.DateFormatter('%m-%d %HZ'))\n",
    "plt.grid(axis='y', color='gray', alpha=0.5)\n",
    "plt.legend(framealpha=1.0)\n",
    "plt.title(f\"{vname} error stats time series\")\n",
    "_ = plt.xticks(rotation=45)\n",
    "\n",
    "plt.savefig(os.path.join(\"plots\", f\"case_{expt}_{vname}.png\"))\n"
   ]
  },
  {
   "cell_type": "markdown",
   "id": "38efe1bf-53be-4156-b822-a5f5820b4d35",
   "metadata": {},
   "source": [
    "Comparison of a few example cases using different filter parameters:\n",
    "\n",
    "- `ctrl`: control setting in `config-ctrl.yml`\n",
    "- `large-roi`: localization radius of influence (roi) is increased 10x, causing ensemble spread collapsing too much.\n",
    "- `adapt-inf`: increase roi and turning on adaptive inflation after assimilation.\n",
    "- `etkf`: using a different EnKF variant, has different response to same roi.\n"
   ]
  },
  {
   "cell_type": "code",
   "execution_count": null,
   "id": "a48f29b8-f477-4769-bb6a-265c95907641",
   "metadata": {},
   "outputs": [],
   "source": [
    "# cases to be compared\n",
    "expts = ['ctrl', 'large-roi', 'adapt-inf', 'etkf']\n",
    "\n",
    "# show the error stats ts plots side by side\n",
    "vname = 'seaice_conc'\n",
    "html = '<div style=\"display: flex; gap: 10px;\">'\n",
    "for expt in expts:\n",
    "    file = os.path.join(\"plots\", f\"case_{expt}_{vname}.png\")\n",
    "    html += f'<img src=\"{file}\" style=\"max-height:400px;\">'\n",
    "html += '</div>'\n",
    "display(HTML(html))\n",
    "\n",
    "vname = 'seaice_thick'\n",
    "html = '<div style=\"display: flex; gap: 10px;\">'\n",
    "for expt in expts:\n",
    "    file = os.path.join(\"plots\", f\"case_{expt}_{vname}.png\")\n",
    "    html += f'<img src=\"{file}\" style=\"max-height:400px;\">'\n",
    "html += '</div>'\n",
    "display(HTML(html))"
   ]
  },
  {
   "cell_type": "code",
   "execution_count": null,
   "id": "5a4f6ba1-711d-422c-bdf8-c79493e04013",
   "metadata": {},
   "outputs": [],
   "source": []
  }
 ],
 "metadata": {
  "kernelspec": {
   "display_name": "Python 3 (ipykernel)",
   "language": "python",
   "name": "python3"
  },
  "language_info": {
   "codemirror_mode": {
    "name": "ipython",
    "version": 3
   },
   "file_extension": ".py",
   "mimetype": "text/x-python",
   "name": "python",
   "nbconvert_exporter": "python",
   "pygments_lexer": "ipython3",
   "version": "3.11.9"
  }
 },
 "nbformat": 4,
 "nbformat_minor": 5
}
