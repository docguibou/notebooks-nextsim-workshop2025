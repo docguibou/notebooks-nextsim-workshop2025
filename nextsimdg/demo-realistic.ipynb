{
 "cells": [
  {
   "cell_type": "code",
   "execution_count": null,
   "id": "e7e06293-0b8a-474a-8a2a-3b0688edbd77",
   "metadata": {
    "editable": true,
    "slideshow": {
     "slide_type": ""
    },
    "tags": []
   },
   "outputs": [],
   "source": [
    "# Numpy\n",
    "import numpy as np\n",
    "\n",
    "# xarray\n",
    "import xarray as xr\n",
    "\n",
    "# matplotlib\n",
    "import matplotlib.pyplot as plt\n",
    "from IPython.display import HTML\n",
    "\n",
    "# time\n",
    "import datetime\n",
    "from cftime import num2date\n",
    "\n",
    "import cmocean  # for nice oceanographic colormaps\n",
    "\n",
    "#JUPYTER notebook magics\n",
    "%matplotlib inline "
   ]
  },
  {
   "cell_type": "code",
   "execution_count": null,
   "id": "e9700b15-6a6b-4e30-80e0-f41d57a52348",
   "metadata": {},
   "outputs": [],
   "source": [
    "%%bash\n",
    "\n",
    "# We tune the BBM-dynamics using this module\n",
    "/home/nextsimdg/build/nextsim --help-config BBMDynamics"
   ]
  },
  {
   "cell_type": "code",
   "execution_count": null,
   "id": "4e92c0de-bcf5-4de1-8b04-d08a12f9ca95",
   "metadata": {
    "editable": true,
    "scrolled": true,
    "slideshow": {
     "slide_type": ""
    },
    "tags": []
   },
   "outputs": [],
   "source": [
    "%%bash\n",
    "\n",
    "# Run the model with the config file for a realistic run\n",
    "time /home/nextsimdg/build/nextsim --config-file config_files/config_25km_NH.cfg"
   ]
  },
  {
   "cell_type": "code",
   "execution_count": null,
   "id": "a413fae0-ae62-4edf-ab14-3cc8ceea50c5",
   "metadata": {
    "editable": true,
    "slideshow": {
     "slide_type": ""
    },
    "tags": []
   },
   "outputs": [],
   "source": [
    "# Load the NetCDF file\n",
    "ds = xr.open_dataset(\"25km_NH.diagnostic.nc\", group=\"/data\")\n",
    "print(ds)\n",
    "\n",
    "# We (still) need to fetch the mask from the init file\n",
    "mask = xr.open_dataset(\"/home/data-nextsim-workshop2025/nextsimdg/demo-realistic/init_25km_NH.nc\", group=\"/data\")['mask']\n",
    "land = np.where(mask == 0, 1, np.nan)  # 1 = land, nan = ocean"
   ]
  },
  {
   "cell_type": "code",
   "execution_count": null,
   "id": "73c93e53-4cd5-40bd-9680-099f963b84f1",
   "metadata": {},
   "outputs": [],
   "source": [
    "# Create sensible dates to use and pick a time slice to use\n",
    "time = ds['time']\n",
    "time_vals = num2date(time.values, units='seconds since 1970-01-01', calendar='gregorian')\n",
    "\n",
    "time_index = 23"
   ]
  },
  {
   "cell_type": "code",
   "execution_count": null,
   "id": "42eee892-1d98-493f-9c04-7f3017012d14",
   "metadata": {
    "editable": true,
    "slideshow": {
     "slide_type": ""
    },
    "tags": []
   },
   "outputs": [],
   "source": [
    "# NB - we need to pick the first DG component, as well as a time slice\n",
    "var = ds['cice'].isel(time=time_index).isel(dg_comp=0)\n",
    "\n",
    "plt.figure()\n",
    "p = plt.pcolormesh(var, shading='auto', cmap='cmo.ice', vmin=0, vmax=1)\n",
    "plt.gca().set_aspect('equal')\n",
    "\n",
    "plt.colorbar(p, label='Sea Ice Concentration', orientation='vertical')\n",
    "\n",
    "plt.pcolormesh(land, shading='auto', cmap='Pastel2', vmin=0, vmax=1)\n",
    "\n",
    "plt.title(f\"Short model run at {time_vals[time_index].isoformat()}\")\n",
    "\n",
    "plt.xticks([])\n",
    "plt.yticks([])\n",
    "plt.show()"
   ]
  },
  {
   "cell_type": "code",
   "execution_count": null,
   "id": "75e3d6c1-8a3c-4bad-a578-8884f13a0192",
   "metadata": {},
   "outputs": [],
   "source": [
    "var = ds['shear'].isel(time=time_index) * 24*3600\n",
    "\n",
    "plt.figure()\n",
    "p = plt.pcolormesh(var, shading='auto', cmap='viridis', vmin=0, vmax=0.5)\n",
    "plt.gca().set_aspect('equal')\n",
    "plt.colorbar(p, label='Instantanious shear [1/day]', orientation='vertical')\n",
    "\n",
    "plt.pcolormesh(land, shading='auto', cmap='Pastel2', vmin=0, vmax=1)\n",
    "\n",
    "plt.title(f\"Short model run at {time_vals[time_index].isoformat()}\")\n",
    "\n",
    "plt.xticks([])\n",
    "plt.yticks([])\n",
    "plt.show()"
   ]
  },
  {
   "cell_type": "code",
   "execution_count": null,
   "id": "0eb8dc66-121d-4130-99d9-49bd74eb9ac6",
   "metadata": {
    "editable": true,
    "slideshow": {
     "slide_type": ""
    },
    "tags": []
   },
   "outputs": [],
   "source": [
    "var = ds['damage'].isel(time=time_index)\n",
    "\n",
    "plt.figure()\n",
    "p = plt.pcolormesh(var, shading='auto', cmap='gist_stern', vmin=0, vmax=0.2)\n",
    "plt.gca().set_aspect('equal')\n",
    "plt.colorbar(p, label='Damage', orientation='vertical')\n",
    "\n",
    "plt.pcolormesh(land, shading='auto', cmap='Pastel2', vmin=0, vmax=1)\n",
    "\n",
    "plt.title(f\"Short model run at {time_vals[time_index].isoformat()}\")\n",
    "\n",
    "plt.xticks([])\n",
    "plt.yticks([])\n",
    "plt.show()"
   ]
  },
  {
   "cell_type": "code",
   "execution_count": null,
   "id": "0f902520-39e2-43bb-b168-b945e0c3e6af",
   "metadata": {},
   "outputs": [],
   "source": [
    "ds.close()"
   ]
  }
 ],
 "metadata": {
  "kernelspec": {
   "display_name": "Python 3 (ipykernel)",
   "language": "python",
   "name": "python3"
  },
  "language_info": {
   "codemirror_mode": {
    "name": "ipython",
    "version": 3
   },
   "file_extension": ".py",
   "mimetype": "text/x-python",
   "name": "python",
   "nbconvert_exporter": "python",
   "pygments_lexer": "ipython3",
   "version": "3.11.9"
  }
 },
 "nbformat": 4,
 "nbformat_minor": 5
}
