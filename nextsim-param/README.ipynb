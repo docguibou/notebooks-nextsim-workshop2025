{
 "cells": [
  {
   "cell_type": "code",
   "execution_count": 1,
   "id": "6c21322d-251f-46e2-8cb2-6b88b5b830ad",
   "metadata": {},
   "outputs": [
    {
     "data": {
      "text/markdown": [
       "_2025 SASIP Workshop_\n",
       "\n",
       "Demonstration session:\n",
       "\n",
       "## How to Implement a New Parameterization in neXtSIM\n",
       "Tim Spain and Einar Ólason (NERSC, Bergen, Norway)\n",
       "\n",
       "### What we will do in this demonstration session:\n",
       "We will examine how to write a new parameterisation for neXtSIM. In the example, we'll write a parameterisation of lateral ice formation and melt based on Mellor and Kantha (1989). We will try it out in the [polynya setup](../nextsimdg/demo-polynya.ipynb) from the [nextsimdg session](../nextsimdg). We will focus on ice formation, as that setup does not cover ice melt. The work requires understanding the program structure and design presented earlier in the day.\n",
       "\n",
       "### The main steps to create a new parameterisation, using the existing module infrastructure:\n",
       "\n",
       " 0. [Fork](https://github.com/nextsimhub/nextsimdg/fork) the [nextsimdg](https://github.com/nextsimhub/nextsimdg) repository and work on your branch.\n",
       " 1. Identify the module to which the parameterisation belongs. In the demonstration case, this is the LateralSpreadModule in the [physics/src/modules/LateralIceSpreadModule](https://github.com/nextsimdg/nextsimdg/blob/1279acb6220bfbdd20ec847e5dfcbf992424a072/physics/src/modules/LateralIceSpreadModule]) directory.\n",
       " 2. Implement the new functionality in a new source file (.cpp) and header file in the include directory. Make sure the new class inherits from the interface base class. In the demonstration case, this is [physics/src/modules/include/ILateralIceSpread.hpp](https://github.com/nextsimdg/nextsimdg/blob/b0ad5cf86e6082d2134c43a9b8ec2b286009cb63/physics/src/modules/include/ILateralIceSpread.hpp).\n",
       " 3. Add the new module to the module.cfg file. In the demonstration case, this is [physics/src/modules/LateralIceSpreadModule/module.cfg](https://github.com/nextsimdg/nextsimdg/blob/60d09b143af90a1719dcdfb508173891d148bffc/physics/src/modules/LateralIceSpreadModule/module.cfg)\n",
       "Rerun cmake to auto-generate the module.cpp file in the module directory.\n",
       " 4. Create a unit-test to make sure your code works as expected (e.g. [physics/test/DamageHealing_test.cpp](https://github.com/nextsimdg/nextsimdg/blob/5bf5ad666acf10d5838dbfc841872bb94c169b90/physics/test/DamageHealing_test.cpp)). If the test is found in the CMakeList.txt file of the test directory, then it will be run as part of the continuous integration (CI) on GitHub.\n",
       " 5. (Optional) Create a pull request on GitHub to ask to merge your new module into the main model repository.\n",
       "\n",
       "### References:\n",
       "\n",
       "Mellor, G. L., & Kantha, L. (1989). An ice-ocean coupled model. Journal of Geophysical Research, 94(C8), 10937–10954. [JC094iC08p10937](https://doi.org/10.1029/JC094iC08p10937).\n"
      ],
      "text/plain": [
       "<IPython.core.display.Markdown object>"
      ]
     },
     "metadata": {},
     "output_type": "display_data"
    }
   ],
   "source": [
    "from IPython.display import display, Markdown\n",
    "\n",
    "with open('README.md', 'r') as fh:\n",
    "    content = fh.read()\n",
    "\n",
    "display(Markdown(content))"
   ]
  },
  {
   "cell_type": "code",
   "execution_count": null,
   "id": "1dc58a14-d4e0-4290-b897-c4d60975c42c",
   "metadata": {},
   "outputs": [],
   "source": []
  }
 ],
 "metadata": {
  "kernelspec": {
   "display_name": "Python 3 (ipykernel)",
   "language": "python",
   "name": "python3"
  },
  "language_info": {
   "codemirror_mode": {
    "name": "ipython",
    "version": 3
   },
   "file_extension": ".py",
   "mimetype": "text/x-python",
   "name": "python",
   "nbconvert_exporter": "python",
   "pygments_lexer": "ipython3",
   "version": "3.11.9"
  }
 },
 "nbformat": 4,
 "nbformat_minor": 5
}
